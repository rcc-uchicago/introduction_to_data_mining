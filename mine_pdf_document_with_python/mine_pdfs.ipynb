{
  "nbformat": 4,
  "nbformat_minor": 0,
  "metadata": {
    "colab": {
      "name": "mine_pdfs.ipynb",
      "provenance": []
    },
    "kernelspec": {
      "name": "python3",
      "display_name": "Python 3"
    },
    "language_info": {
      "name": "python"
    }
  },
  "cells": [
    {
      "cell_type": "code",
      "metadata": {
        "colab": {
          "base_uri": "https://localhost:8080/"
        },
        "id": "RayyM13vlNYz",
        "outputId": "40f17376-f478-4562-fdc7-b6aaec94dff3"
      },
      "source": [
        "!pip install pdfminer.six"
      ],
      "execution_count": 1,
      "outputs": [
        {
          "output_type": "stream",
          "text": [
            "Collecting pdfminer.six\n",
            "  Downloading pdfminer.six-20201018-py3-none-any.whl (5.6 MB)\n",
            "\u001b[K     |████████████████████████████████| 5.6 MB 5.4 MB/s \n",
            "\u001b[?25hCollecting cryptography\n",
            "  Downloading cryptography-3.4.7-cp36-abi3-manylinux2014_x86_64.whl (3.2 MB)\n",
            "\u001b[K     |████████████████████████████████| 3.2 MB 40.4 MB/s \n",
            "\u001b[?25hRequirement already satisfied: sortedcontainers in /usr/local/lib/python3.7/dist-packages (from pdfminer.six) (2.4.0)\n",
            "Requirement already satisfied: chardet in /usr/local/lib/python3.7/dist-packages (from pdfminer.six) (3.0.4)\n",
            "Requirement already satisfied: cffi>=1.12 in /usr/local/lib/python3.7/dist-packages (from cryptography->pdfminer.six) (1.14.6)\n",
            "Requirement already satisfied: pycparser in /usr/local/lib/python3.7/dist-packages (from cffi>=1.12->cryptography->pdfminer.six) (2.20)\n",
            "Installing collected packages: cryptography, pdfminer.six\n",
            "Successfully installed cryptography-3.4.7 pdfminer.six-20201018\n"
          ],
          "name": "stdout"
        }
      ]
    },
    {
      "cell_type": "code",
      "metadata": {
        "colab": {
          "base_uri": "https://localhost:8080/"
        },
        "id": "mPfCOCe1lPKY",
        "outputId": "3359a60e-c21d-44fb-b49d-ca1a53fcba09"
      },
      "source": [
        "ls"
      ],
      "execution_count": 2,
      "outputs": [
        {
          "output_type": "stream",
          "text": [
            "ehurst.pdf  \u001b[0m\u001b[01;34msample_data\u001b[0m/\n"
          ],
          "name": "stdout"
        }
      ]
    },
    {
      "cell_type": "code",
      "metadata": {
        "id": "1Va1uH9Zlz3n"
      },
      "source": [
        "import pdfminer"
      ],
      "execution_count": 6,
      "outputs": []
    },
    {
      "cell_type": "code",
      "metadata": {
        "id": "AZpmEnimljGK"
      },
      "source": [
        "from pdfminer.pdfinterp import PDFResourceManager, PDFPageInterpreter\n",
        "from pdfminer.converter import TextConverter\n",
        "from pdfminer.layout import LAParams\n",
        "from pdfminer.pdfpage import PDFPage\n",
        "from io import StringIO\n",
        "\n",
        "def convert_pdf_to_txt(path):\n",
        "    rsrcmgr = PDFResourceManager()\n",
        "    retstr = StringIO()\n",
        "    codec = 'utf-8'\n",
        "    laparams = LAParams()\n",
        "    device = TextConverter(rsrcmgr, retstr, codec=codec, laparams=laparams)\n",
        "    fp = open(path, 'rb')\n",
        "    interpreter = PDFPageInterpreter(rsrcmgr, device)\n",
        "    password = \"\"\n",
        "    maxpages = 0\n",
        "    caching = True\n",
        "    pagenos=set()\n",
        "\n",
        "    for page in PDFPage.get_pages(fp, pagenos, maxpages=maxpages, password=password,caching=caching, check_extractable=True):\n",
        "        interpreter.process_page(page)\n",
        "\n",
        "    text = retstr.getvalue()\n",
        "\n",
        "    fp.close()\n",
        "    device.close()\n",
        "    retstr.close()\n",
        "    return text"
      ],
      "execution_count": 10,
      "outputs": []
    },
    {
      "cell_type": "code",
      "metadata": {
        "colab": {
          "base_uri": "https://localhost:8080/",
          "height": 35
        },
        "id": "YiMpb5iIlsmT",
        "outputId": "92f70ecd-eb8d-4192-b4b1-645e9acea56e"
      },
      "source": [
        "pwd"
      ],
      "execution_count": 11,
      "outputs": [
        {
          "output_type": "execute_result",
          "data": {
            "application/vnd.google.colaboratory.intrinsic+json": {
              "type": "string"
            },
            "text/plain": [
              "'/content'"
            ]
          },
          "metadata": {},
          "execution_count": 11
        }
      ]
    },
    {
      "cell_type": "code",
      "metadata": {
        "id": "VIJYnx48mPCw"
      },
      "source": [
        "x = convert_pdf_to_txt('/content/RCC_cheat_sheet.pdf')"
      ],
      "execution_count": 15,
      "outputs": []
    },
    {
      "cell_type": "code",
      "metadata": {
        "colab": {
          "base_uri": "https://localhost:8080/",
          "height": 122
        },
        "id": "PBGdYaYdmSo9",
        "outputId": "02b5fe41-d15b-4d06-e726-c4b4b8bed4d5"
      },
      "source": [
        "x"
      ],
      "execution_count": 16,
      "outputs": [
        {
          "output_type": "execute_result",
          "data": {
            "application/vnd.google.colaboratory.intrinsic+json": {
              "type": "string"
            },
            "text/plain": [
              "'Aug 4, 2021 \\n \\n\\n \\n\\nKaihua Ding, Ph.D. \\n\\nRCC Cheat Sheet \\n\\nApplication or questions on SDE (not managed by RCC, must already have IRB & DUA to use SDE): \\n\\nhttps://securedata.uchicago.edu/contact/ \\n\\n \\n\\n \\n\\n \\n\\n \\n\\n \\n\\n \\n\\n \\n\\n \\n\\n \\n\\n \\n \\n\\nDirect call or email with SDE staff during the workday (not managed by RCC): \\n\\nhttps://sde-midwayr.rcc.uchicago.edu/contact/ \\n\\nsecuredataenclave@uchicago.edu \\n\\nSDE questions related to RCC: \\n\\nmidwayR@rcc.uchicago.edu \\n\\nApplication or questions on RCC PI accounts (faculty only): \\n\\nhttps://rcc.uchicago.edu/accounts-allocations/pi-account-request \\n\\nApplication or questions about general user accounts:  \\n\\nhttps://rcc.uchicago.edu/accounts-allocations/general-user-account-request \\n\\nAccount extension application: \\n\\nhttps://rcc.uchicago.edu/accounts-allocations/account-extension-request \\n\\nJoin a different PI account: \\n\\nhttps://rcc.uchicago.edu/accounts-allocations/join-different-pi-account \\n\\nAllocation request: \\n\\nhttps://rcc.uchicago.edu/accounts-allocations/how-apply \\n\\nAny technical questions, e.g., algorithms, computer vision or AI :  \\n\\n \\n\\n1 \\n\\n\\x0cAug 4, 2021 \\n \\n\\n \\n\\nKaihua Ding, Ph.D. \\n\\nhttps://rcc.uchicago.edu/support-and-services/consulting-and-technical-support \\n\\nGIS support (mapping, satellites data): \\n\\nhttps://gis.rcc.uchicago.edu/contact \\n\\nVisualization lab (ultra-high resolution image processing lab): \\n\\nhttps://vislab.rcc.uchicago.edu/contact/ \\n\\nNon-technical questions: \\n\\ninfo@rcc.uchicago.edu \\n\\nAny other questions: \\n\\nhelp@rcc.uchicago.edu \\n\\nTips: RCC requests sent through the above links have time stamps, which mean these requests 99% of \\nthe time are solved within 4 hours, by any on-duty students, IT administrators, data scientists, or \\ncomputational scientists of the day, and are monitored by the entire RCC staff. All other means of \\ncommunication are not monitored.  \\n\\n \\n\\n2 \\n\\n \\n\\n \\n\\n \\n\\n \\n\\n \\n\\n \\n\\n \\n\\n \\n\\n \\n \\n\\n\\x0c'"
            ]
          },
          "metadata": {},
          "execution_count": 16
        }
      ]
    },
    {
      "cell_type": "code",
      "metadata": {
        "colab": {
          "base_uri": "https://localhost:8080/"
        },
        "id": "8QwWubA5mY1E",
        "outputId": "de8b2c26-27b2-4835-bb61-bb6e8875c068"
      },
      "source": [
        "x.split('\\n')"
      ],
      "execution_count": 17,
      "outputs": [
        {
          "output_type": "execute_result",
          "data": {
            "text/plain": [
              "['Aug 4, 2021 ',\n",
              " ' ',\n",
              " '',\n",
              " ' ',\n",
              " '',\n",
              " 'Kaihua Ding, Ph.D. ',\n",
              " '',\n",
              " 'RCC Cheat Sheet ',\n",
              " '',\n",
              " 'Application or questions on SDE (not managed by RCC, must already have IRB & DUA to use SDE): ',\n",
              " '',\n",
              " 'https://securedata.uchicago.edu/contact/ ',\n",
              " '',\n",
              " ' ',\n",
              " '',\n",
              " ' ',\n",
              " '',\n",
              " ' ',\n",
              " '',\n",
              " ' ',\n",
              " '',\n",
              " ' ',\n",
              " '',\n",
              " ' ',\n",
              " '',\n",
              " ' ',\n",
              " '',\n",
              " ' ',\n",
              " '',\n",
              " ' ',\n",
              " '',\n",
              " ' ',\n",
              " ' ',\n",
              " '',\n",
              " 'Direct call or email with SDE staff during the workday (not managed by RCC): ',\n",
              " '',\n",
              " 'https://sde-midwayr.rcc.uchicago.edu/contact/ ',\n",
              " '',\n",
              " 'securedataenclave@uchicago.edu ',\n",
              " '',\n",
              " 'SDE questions related to RCC: ',\n",
              " '',\n",
              " 'midwayR@rcc.uchicago.edu ',\n",
              " '',\n",
              " 'Application or questions on RCC PI accounts (faculty only): ',\n",
              " '',\n",
              " 'https://rcc.uchicago.edu/accounts-allocations/pi-account-request ',\n",
              " '',\n",
              " 'Application or questions about general user accounts:  ',\n",
              " '',\n",
              " 'https://rcc.uchicago.edu/accounts-allocations/general-user-account-request ',\n",
              " '',\n",
              " 'Account extension application: ',\n",
              " '',\n",
              " 'https://rcc.uchicago.edu/accounts-allocations/account-extension-request ',\n",
              " '',\n",
              " 'Join a different PI account: ',\n",
              " '',\n",
              " 'https://rcc.uchicago.edu/accounts-allocations/join-different-pi-account ',\n",
              " '',\n",
              " 'Allocation request: ',\n",
              " '',\n",
              " 'https://rcc.uchicago.edu/accounts-allocations/how-apply ',\n",
              " '',\n",
              " 'Any technical questions, e.g., algorithms, computer vision or AI :  ',\n",
              " '',\n",
              " ' ',\n",
              " '',\n",
              " '1 ',\n",
              " '',\n",
              " '\\x0cAug 4, 2021 ',\n",
              " ' ',\n",
              " '',\n",
              " ' ',\n",
              " '',\n",
              " 'Kaihua Ding, Ph.D. ',\n",
              " '',\n",
              " 'https://rcc.uchicago.edu/support-and-services/consulting-and-technical-support ',\n",
              " '',\n",
              " 'GIS support (mapping, satellites data): ',\n",
              " '',\n",
              " 'https://gis.rcc.uchicago.edu/contact ',\n",
              " '',\n",
              " 'Visualization lab (ultra-high resolution image processing lab): ',\n",
              " '',\n",
              " 'https://vislab.rcc.uchicago.edu/contact/ ',\n",
              " '',\n",
              " 'Non-technical questions: ',\n",
              " '',\n",
              " 'info@rcc.uchicago.edu ',\n",
              " '',\n",
              " 'Any other questions: ',\n",
              " '',\n",
              " 'help@rcc.uchicago.edu ',\n",
              " '',\n",
              " 'Tips: RCC requests sent through the above links have time stamps, which mean these requests 99% of ',\n",
              " 'the time are solved within 4 hours, by any on-duty students, IT administrators, data scientists, or ',\n",
              " 'computational scientists of the day, and are monitored by the entire RCC staff. All other means of ',\n",
              " 'communication are not monitored.  ',\n",
              " '',\n",
              " ' ',\n",
              " '',\n",
              " '2 ',\n",
              " '',\n",
              " ' ',\n",
              " '',\n",
              " ' ',\n",
              " '',\n",
              " ' ',\n",
              " '',\n",
              " ' ',\n",
              " '',\n",
              " ' ',\n",
              " '',\n",
              " ' ',\n",
              " '',\n",
              " ' ',\n",
              " '',\n",
              " ' ',\n",
              " '',\n",
              " ' ',\n",
              " ' ',\n",
              " '',\n",
              " '\\x0c']"
            ]
          },
          "metadata": {},
          "execution_count": 17
        }
      ]
    },
    {
      "cell_type": "code",
      "metadata": {
        "id": "FkNWsomLm4wf"
      },
      "source": [
        ""
      ],
      "execution_count": null,
      "outputs": []
    }
  ]
}